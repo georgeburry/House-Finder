{
 "cells": [
  {
   "cell_type": "markdown",
   "metadata": {},
   "source": [
    "# Scraping rental data for central districts of Tokyo"
   ]
  },
  {
   "cell_type": "markdown",
   "metadata": {},
   "source": [
    "This is a small project that I worked on while I lived in Japan in order to learn how to scrape valuable data from webpages. It simply scrapes data from a Japanese real estate website, determines which data is relevant, and then puts the data for each house into a Pandas dataframe. "
   ]
  },
  {
   "cell_type": "code",
   "execution_count": 1,
   "metadata": {},
   "outputs": [],
   "source": [
    "import requests, re\n",
    "from bs4 import BeautifulSoup\n",
    "import pandas\n",
    "import database"
   ]
  },
  {
   "cell_type": "markdown",
   "metadata": {},
   "source": [
    "### Determining number of pages based on example search"
   ]
  },
  {
   "cell_type": "code",
   "execution_count": 2,
   "metadata": {
    "scrolled": false
   },
   "outputs": [
    {
     "name": "stdout",
     "output_type": "stream",
     "text": [
      "505 pages were found\n"
     ]
    }
   ],
   "source": [
    "# this is the URL generated after choosing specific search criteria on the website (e.g. location, house type, price range)\n",
    "search_url = \"http://suumo.jp/jj/chintai/ichiran/FR301FC001/?ar=030&bs=040&ta=13&sc=13101&sc=13102&sc=13103&sc=13104&sc=13105&sc=13113&cb=0.0&ct=9999999&et=9999999&cn=9999999&mb=0&mt=9999999&shkr1=03&shkr2=03&shkr3=03&shkr4=03&fw2=\"\n",
    "\n",
    "# obtaining all content from pre-defined URL\n",
    "r = requests.get(search_url)\n",
    "c = r.content\n",
    "\n",
    "# we use beautifulsoup to make sense of the data\n",
    "soup = BeautifulSoup(c,\"html.parser\")\n",
    "\n",
    "# it was determined that we need to look inside the class \"cassetteitem\" having inspected the HTML elements \n",
    "all = soup.find_all(\"div\",{\"class\":\"cassetteitem\"})\n",
    "\n",
    "# now we can see how all entries related to the search were split into pages by looking for \"pagination-parts\" class instances.\n",
    "page_nr = soup.find_all(\"ol\",{\"class\":\"pagination-parts\"})[-1].text\n",
    "page_nr = [int(s) for s in page_nr.split() if s.isdigit()]\n",
    "page_nr = page_nr[len(page_nr)-1]\n",
    "\n",
    "print(page_nr,\"pages were found\")"
   ]
  },
  {
   "cell_type": "markdown",
   "metadata": {},
   "source": [
    "### Extracting data of interest from each page, appending to lists in a dictionary, creating a Pandas dataframe and then saving as a CSV file"
   ]
  },
  {
   "cell_type": "code",
   "execution_count": 3,
   "metadata": {
    "scrolled": true
   },
   "outputs": [],
   "source": [
    "# iterating through each page by adding page number to end of search URL each time\n",
    "l = []\n",
    "for page in range(1, 2):  # for the sake of this example, only one page is used to speed up the operation\n",
    "    r = requests.get(search_url + '&pn=' + str(page))\n",
    "    c = r.content\n",
    "    soup = BeautifulSoup(c,\"html.parser\")\n",
    "    all = soup.find_all(lambda tag: tag.name == 'div' and \n",
    "                                   tag.get('class') == ['cassetteitem'])    # \"cassetteitem\" is the class for each house\n",
    "\n",
    "    # for each house discovered, let's collect information on title, locality, number of room, floor area and price\n",
    "    # and put the information into a dictionary\n",
    "    for item in all:\n",
    "        d = {}\n",
    "        d[\"Title\"] = item.find(\"div\",{\"class\",\"cassetteitem_content-title\"}).text\n",
    "        d[\"Locality\"] = item.find(\"li\",{\"class\",\"cassetteitem_detail-col1\"}).text\n",
    "        d[\"Price\"] = item.find(\"span\",{\"class\",\"cassetteitem_other-emphasis ui-text--bold\"}).text.replace(\"\\n\",\"\").replace(\" \",\"\")\n",
    "\n",
    "        # finding number of rooms is more complicated in this situation, because categories need to be decoded\n",
    "        rooms = item.find(\"table\",{\"class\",\"cassetteitem_other\"}).text\n",
    "        if 'ワンルーム' in rooms:\n",
    "            d[\"Rooms\"] = 1\n",
    "        elif '1K' in rooms:\n",
    "            d[\"Rooms\"] = 1\n",
    "        elif '2K' in rooms:\n",
    "            d[\"Rooms\"] = 2\n",
    "        else:\n",
    "            d[\"Rooms\"] = \"Unknown\"\n",
    "        \n",
    "        # need to dig inside tables to find the relevant number\n",
    "        table = item.find_all(\"table\",{\"class\",\"cassetteitem_other\"})[0]\n",
    "        nums = re.findall(r'\\d+(?:\\.\\d+)?', str(table))\n",
    "        d[\"Size\"] = nums[-6]+\" m2\"\n",
    "        \n",
    "#         d[\"Link\"] = item.find(\"td\",{\"class\",\"ui-text--midium ui-text--bold\"}).text\n",
    "        \n",
    "        l.append(d)\n",
    "\n",
    "# finally we can create a dataframe with the columns ordered in the way we please and then save it as a CSV file\n",
    "df = pandas.DataFrame(l)\n",
    "df = df[['Title', 'Locality', 'Size', 'Rooms', 'Price']]\n",
    "df.to_csv(\"Output.csv\")"
   ]
  },
  {
   "cell_type": "code",
   "execution_count": 4,
   "metadata": {},
   "outputs": [
    {
     "data": {
      "text/html": [
       "<div>\n",
       "<style scoped>\n",
       "    .dataframe tbody tr th:only-of-type {\n",
       "        vertical-align: middle;\n",
       "    }\n",
       "\n",
       "    .dataframe tbody tr th {\n",
       "        vertical-align: top;\n",
       "    }\n",
       "\n",
       "    .dataframe thead th {\n",
       "        text-align: right;\n",
       "    }\n",
       "</style>\n",
       "<table border=\"1\" class=\"dataframe\">\n",
       "  <thead>\n",
       "    <tr style=\"text-align: right;\">\n",
       "      <th></th>\n",
       "      <th>Title</th>\n",
       "      <th>Locality</th>\n",
       "      <th>Size</th>\n",
       "      <th>Rooms</th>\n",
       "      <th>Price</th>\n",
       "    </tr>\n",
       "  </thead>\n",
       "  <tbody>\n",
       "    <tr>\n",
       "      <th>0</th>\n",
       "      <td>コンフォリア春日富坂</td>\n",
       "      <td>東京都文京区春日１</td>\n",
       "      <td>64.85 m2</td>\n",
       "      <td>1</td>\n",
       "      <td>9.1万円</td>\n",
       "    </tr>\n",
       "    <tr>\n",
       "      <th>1</th>\n",
       "      <td>恵比寿レジデンス弐番館</td>\n",
       "      <td>東京都渋谷区東２</td>\n",
       "      <td>42.65 m2</td>\n",
       "      <td>Unknown</td>\n",
       "      <td>18.4万円</td>\n",
       "    </tr>\n",
       "    <tr>\n",
       "      <th>2</th>\n",
       "      <td>ガーデン原宿</td>\n",
       "      <td>東京都渋谷区神宮前４</td>\n",
       "      <td>47.54 m2</td>\n",
       "      <td>1</td>\n",
       "      <td>16万円</td>\n",
       "    </tr>\n",
       "    <tr>\n",
       "      <th>3</th>\n",
       "      <td>エスレジデンス月島</td>\n",
       "      <td>東京都中央区月島３</td>\n",
       "      <td>44.67 m2</td>\n",
       "      <td>1</td>\n",
       "      <td>10.4万円</td>\n",
       "    </tr>\n",
       "    <tr>\n",
       "      <th>4</th>\n",
       "      <td>プラザ勝どき</td>\n",
       "      <td>東京都中央区勝どき１</td>\n",
       "      <td>99.34 m2</td>\n",
       "      <td>1</td>\n",
       "      <td>10.7万円</td>\n",
       "    </tr>\n",
       "  </tbody>\n",
       "</table>\n",
       "</div>"
      ],
      "text/plain": [
       "         Title    Locality      Size    Rooms   Price\n",
       "0   コンフォリア春日富坂   東京都文京区春日１  64.85 m2        1   9.1万円\n",
       "1  恵比寿レジデンス弐番館    東京都渋谷区東２  42.65 m2  Unknown  18.4万円\n",
       "2       ガーデン原宿  東京都渋谷区神宮前４  47.54 m2        1    16万円\n",
       "3    エスレジデンス月島   東京都中央区月島３  44.67 m2        1  10.4万円\n",
       "4       プラザ勝どき  東京都中央区勝どき１  99.34 m2        1  10.7万円"
      ]
     },
     "execution_count": 4,
     "metadata": {},
     "output_type": "execute_result"
    }
   ],
   "source": [
    "df.head()"
   ]
  },
  {
   "cell_type": "markdown",
   "metadata": {},
   "source": [
    "### We can even put the data into an SQL database by importing and calling the included \"database\" script"
   ]
  },
  {
   "cell_type": "code",
   "execution_count": 7,
   "metadata": {},
   "outputs": [],
   "source": [
    "# goes back through all of the houses in the list of dictionaries and enters the respective information into database\n",
    "database.create_table()\n",
    "for d in l:\n",
    "    database.insert(d[\"Title\"],d[\"Locality\"],d[\"Size\"],d[\"Rooms\"],d[\"Price\"])"
   ]
  }
 ],
 "metadata": {
  "kernelspec": {
   "display_name": "Python 3",
   "language": "python",
   "name": "python3"
  },
  "language_info": {
   "codemirror_mode": {
    "name": "ipython",
    "version": 3
   },
   "file_extension": ".py",
   "mimetype": "text/x-python",
   "name": "python",
   "nbconvert_exporter": "python",
   "pygments_lexer": "ipython3",
   "version": "3.6.4"
  }
 },
 "nbformat": 4,
 "nbformat_minor": 2
}
